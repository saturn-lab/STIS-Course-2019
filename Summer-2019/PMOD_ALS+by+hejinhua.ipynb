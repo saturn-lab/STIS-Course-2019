{
 "cells": [
  {
   "cell_type": "code",
   "execution_count": 15,
   "metadata": {
    "collapsed": false
   },
   "outputs": [],
   "source": [
    "from pynq import Overlay\n",
    "Overlay(\"base.bit\").download()\n",
    "from pynq.iop import Pmod_ALS\n",
    "from pynq.iop import PMODB\n",
    "from time import sleep\n",
    "from pynq.board import LED\n",
    "from pynq.board import Button"
   ]
  },
  {
   "cell_type": "code",
   "execution_count": 16,
   "metadata": {
    "collapsed": true
   },
   "outputs": [],
   "source": [
    "# ALS sensor is on P+++MODB\n",
    "my_als = Pmod_ALS(PMODB)"
   ]
  },
  {
   "cell_type": "code",
   "execution_count": 17,
   "metadata": {
    "collapsed": true
   },
   "outputs": [],
   "source": [
    "my_als.read()\n",
    "my_als.start_log()"
   ]
  },
  {
   "cell_type": "code",
   "execution_count": 18,
   "metadata": {
    "collapsed": false
   },
   "outputs": [],
   "source": [
    "for led in leds:\n",
    "    led.off()  "
   ]
  },
  {
   "cell_type": "code",
   "execution_count": null,
   "metadata": {
    "collapsed": false
   },
   "outputs": [],
   "source": [
    "btns = [Button(index) for index in range(4)]\n",
    "while (btns[3].read()==0):\n",
    "    luminance1=my_als.read()\n",
    "    leds = [LED(index) for index in range(4)]\n",
    "    if(luminance1<=50):\n",
    "        for led in leds:\n",
    "            led.on()\n",
    "    else:\n",
    "        for led in leds:\n",
    "            led.off()"
   ]
  },
  {
   "cell_type": "code",
   "execution_count": 36,
   "metadata": {
    "collapsed": true
   },
   "outputs": [],
   "source": []
  }
 ],
 "metadata": {
  "kernelspec": {
   "display_name": "Python 3",
   "language": "python",
   "name": "python3"
  },
  "language_info": {
   "codemirror_mode": {
    "name": "ipython",
    "version": 3
   },
   "file_extension": ".py",
   "mimetype": "text/x-python",
   "name": "python",
   "nbconvert_exporter": "python",
   "pygments_lexer": "ipython3",
   "version": "3.4.3+"
  }
 },
 "nbformat": 4,
 "nbformat_minor": 1
}
